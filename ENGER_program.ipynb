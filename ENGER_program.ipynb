{
 "cells": [
  {
   "cell_type": "markdown",
   "id": "bceb7478",
   "metadata": {},
   "source": [
    "# ENGER conlang program\n",
    "\n",
    "### This is the core program of the ENGER conlang project. It can be used to generate words using the ENGER conlang (for more information see the OSF wiki), and to apply phonological rules from English or German to them.\n",
    "\n",
    "### Simply put the complementing Python scripts in the same directory as this notebook and import them by running the code."
   ]
  },
  {
   "cell_type": "code",
   "execution_count": 3,
   "id": "14f22456",
   "metadata": {},
   "outputs": [
    {
     "name": "stdout",
     "output_type": "stream",
     "text": [
      "You entered: 6\n",
      "Your word is: p œ s t . ɔ ɪ ɹ d͡ʒ . t͡s o ʊ t͡ʃ p . k ʏ n d . s ɔ s g . e ɪ\n"
     ]
    },
    {
     "data": {
      "application/vnd.jupyter.widget-view+json": {
       "model_id": "3bc7a4354d044ac3a9947df16bfa5059",
       "version_major": 2,
       "version_minor": 0
      },
      "text/plain": [
       "Output()"
      ]
     },
     "metadata": {},
     "output_type": "display_data"
    },
    {
     "data": {
      "application/vnd.jupyter.widget-view+json": {
       "model_id": "b5f0b47e73ed4b838cda50d54fd38da8",
       "version_major": 2,
       "version_minor": 0
      },
      "text/plain": [
       "Button(description='Prevocalic Aspiration', layout=Layout(height='40px', width='250px'), style=ButtonStyle())"
      ]
     },
     "metadata": {},
     "output_type": "display_data"
    },
    {
     "data": {
      "application/vnd.jupyter.widget-view+json": {
       "model_id": "ec13b7f6ad244fae94f92152b57d9548",
       "version_major": 2,
       "version_minor": 0
      },
      "text/plain": [
       "Button(description='Vowel Nasalization', layout=Layout(height='40px', width='250px'), style=ButtonStyle())"
      ]
     },
     "metadata": {},
     "output_type": "display_data"
    }
   ],
   "source": [
    "from helper_functions_dictionaries import *\n",
    "import ipywidgets as widgets\n",
    "from IPython.display import display\n",
    "\n",
    "clear_log()\n",
    "\n",
    "word = build_word()\n",
    "print(f\"Your word is: {' '.join(word)}\")\n",
    "\n",
    "options = rule_possible_check(word)\n",
    "\n",
    "output = widgets.Output()\n",
    "display(output)\n",
    "\n",
    "buttons = [widgets.Button(description=opt, layout=widgets.Layout(width=\"250px\", height=\"40px\")) for opt in options]\n",
    "\n",
    "for btn in buttons:\n",
    "    btn.on_click(make_handler(btn.description, word, output))\n",
    "    display(btn)"
   ]
  }
 ],
 "metadata": {
  "kernelspec": {
   "display_name": "Python 3",
   "language": "python",
   "name": "python3"
  },
  "language_info": {
   "codemirror_mode": {
    "name": "ipython",
    "version": 3
   },
   "file_extension": ".py",
   "mimetype": "text/x-python",
   "name": "python",
   "nbconvert_exporter": "python",
   "pygments_lexer": "ipython3",
   "version": "3.11.9"
  }
 },
 "nbformat": 4,
 "nbformat_minor": 5
}
